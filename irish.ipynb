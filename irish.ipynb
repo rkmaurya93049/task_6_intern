{
 "cells": [
  {
   "cell_type": "code",
   "execution_count": 1,
   "id": "84c668e8",
   "metadata": {
    "_cell_guid": "b1076dfc-b9ad-4769-8c92-a6c4dae69d19",
    "_uuid": "8f2839f25d086af736a60e9eeb907d3b93b6e0e5",
    "execution": {
     "iopub.execute_input": "2025-05-04T14:30:18.014533Z",
     "iopub.status.busy": "2025-05-04T14:30:18.014081Z",
     "iopub.status.idle": "2025-05-04T14:30:19.931008Z",
     "shell.execute_reply": "2025-05-04T14:30:19.929705Z"
    },
    "papermill": {
     "duration": 1.927433,
     "end_time": "2025-05-04T14:30:19.933098",
     "exception": false,
     "start_time": "2025-05-04T14:30:18.005665",
     "status": "completed"
    },
    "tags": []
   },
   "outputs": [
    {
     "name": "stdout",
     "output_type": "stream",
     "text": [
      "/kaggle/input/iris/Iris.csv\n",
      "/kaggle/input/iris/database.sqlite\n"
     ]
    }
   ],
   "source": [
    "# This Python 3 environment comes with many helpful analytics libraries installed\n",
    "# It is defined by the kaggle/python Docker image: https://github.com/kaggle/docker-python\n",
    "# For example, here's several helpful packages to load\n",
    "\n",
    "import numpy as np # linear algebra\n",
    "import pandas as pd # data processing, CSV file I/O (e.g. pd.read_csv)\n",
    "\n",
    "# Input data files are available in the read-only \"../input/\" directory\n",
    "# For example, running this (by clicking run or pressing Shift+Enter) will list all files under the input directory\n",
    "\n",
    "import os\n",
    "for dirname, _, filenames in os.walk('/kaggle/input'):\n",
    "    for filename in filenames:\n",
    "        print(os.path.join(dirname, filename))\n",
    "\n",
    "# You can write up to 20GB to the current directory (/kaggle/working/) that gets preserved as output when you create a version using \"Save & Run All\" \n",
    "# You can also write temporary files to /kaggle/temp/, but they won't be saved outside of the current session"
   ]
  },
  {
   "cell_type": "markdown",
   "id": "c0036e55",
   "metadata": {
    "papermill": {
     "duration": 0.005441,
     "end_time": "2025-05-04T14:30:19.945004",
     "exception": false,
     "start_time": "2025-05-04T14:30:19.939563",
     "status": "completed"
    },
    "tags": []
   },
   "source": [
    "# uploading the dataset:"
   ]
  },
  {
   "cell_type": "code",
   "execution_count": 2,
   "id": "59e0d389",
   "metadata": {
    "execution": {
     "iopub.execute_input": "2025-05-04T14:30:19.961737Z",
     "iopub.status.busy": "2025-05-04T14:30:19.961101Z",
     "iopub.status.idle": "2025-05-04T14:30:19.995103Z",
     "shell.execute_reply": "2025-05-04T14:30:19.993212Z"
    },
    "papermill": {
     "duration": 0.045186,
     "end_time": "2025-05-04T14:30:19.997758",
     "exception": false,
     "start_time": "2025-05-04T14:30:19.952572",
     "status": "completed"
    },
    "tags": []
   },
   "outputs": [],
   "source": [
    "df=pd.read_csv('/kaggle/input/iris/Iris.csv',index_col=0)"
   ]
  },
  {
   "cell_type": "code",
   "execution_count": 3,
   "id": "700e2c8f",
   "metadata": {
    "execution": {
     "iopub.execute_input": "2025-05-04T14:30:20.020075Z",
     "iopub.status.busy": "2025-05-04T14:30:20.019204Z",
     "iopub.status.idle": "2025-05-04T14:30:20.048859Z",
     "shell.execute_reply": "2025-05-04T14:30:20.047681Z"
    },
    "papermill": {
     "duration": 0.039233,
     "end_time": "2025-05-04T14:30:20.050658",
     "exception": false,
     "start_time": "2025-05-04T14:30:20.011425",
     "status": "completed"
    },
    "tags": []
   },
   "outputs": [
    {
     "data": {
      "text/html": [
       "<div>\n",
       "<style scoped>\n",
       "    .dataframe tbody tr th:only-of-type {\n",
       "        vertical-align: middle;\n",
       "    }\n",
       "\n",
       "    .dataframe tbody tr th {\n",
       "        vertical-align: top;\n",
       "    }\n",
       "\n",
       "    .dataframe thead th {\n",
       "        text-align: right;\n",
       "    }\n",
       "</style>\n",
       "<table border=\"1\" class=\"dataframe\">\n",
       "  <thead>\n",
       "    <tr style=\"text-align: right;\">\n",
       "      <th></th>\n",
       "      <th>SepalLengthCm</th>\n",
       "      <th>SepalWidthCm</th>\n",
       "      <th>PetalLengthCm</th>\n",
       "      <th>PetalWidthCm</th>\n",
       "      <th>Species</th>\n",
       "    </tr>\n",
       "    <tr>\n",
       "      <th>Id</th>\n",
       "      <th></th>\n",
       "      <th></th>\n",
       "      <th></th>\n",
       "      <th></th>\n",
       "      <th></th>\n",
       "    </tr>\n",
       "  </thead>\n",
       "  <tbody>\n",
       "    <tr>\n",
       "      <th>1</th>\n",
       "      <td>5.1</td>\n",
       "      <td>3.5</td>\n",
       "      <td>1.4</td>\n",
       "      <td>0.2</td>\n",
       "      <td>Iris-setosa</td>\n",
       "    </tr>\n",
       "    <tr>\n",
       "      <th>2</th>\n",
       "      <td>4.9</td>\n",
       "      <td>3.0</td>\n",
       "      <td>1.4</td>\n",
       "      <td>0.2</td>\n",
       "      <td>Iris-setosa</td>\n",
       "    </tr>\n",
       "    <tr>\n",
       "      <th>3</th>\n",
       "      <td>4.7</td>\n",
       "      <td>3.2</td>\n",
       "      <td>1.3</td>\n",
       "      <td>0.2</td>\n",
       "      <td>Iris-setosa</td>\n",
       "    </tr>\n",
       "    <tr>\n",
       "      <th>4</th>\n",
       "      <td>4.6</td>\n",
       "      <td>3.1</td>\n",
       "      <td>1.5</td>\n",
       "      <td>0.2</td>\n",
       "      <td>Iris-setosa</td>\n",
       "    </tr>\n",
       "    <tr>\n",
       "      <th>5</th>\n",
       "      <td>5.0</td>\n",
       "      <td>3.6</td>\n",
       "      <td>1.4</td>\n",
       "      <td>0.2</td>\n",
       "      <td>Iris-setosa</td>\n",
       "    </tr>\n",
       "  </tbody>\n",
       "</table>\n",
       "</div>"
      ],
      "text/plain": [
       "    SepalLengthCm  SepalWidthCm  PetalLengthCm  PetalWidthCm      Species\n",
       "Id                                                                       \n",
       "1             5.1           3.5            1.4           0.2  Iris-setosa\n",
       "2             4.9           3.0            1.4           0.2  Iris-setosa\n",
       "3             4.7           3.2            1.3           0.2  Iris-setosa\n",
       "4             4.6           3.1            1.5           0.2  Iris-setosa\n",
       "5             5.0           3.6            1.4           0.2  Iris-setosa"
      ]
     },
     "execution_count": 3,
     "metadata": {},
     "output_type": "execute_result"
    }
   ],
   "source": [
    "df.head()"
   ]
  },
  {
   "cell_type": "markdown",
   "id": "d2b56e9d",
   "metadata": {
    "papermill": {
     "duration": 0.005632,
     "end_time": "2025-05-04T14:30:20.062726",
     "exception": false,
     "start_time": "2025-05-04T14:30:20.057094",
     "status": "completed"
    },
    "tags": []
   },
   "source": [
    "# exploaring the data:"
   ]
  },
  {
   "cell_type": "code",
   "execution_count": 4,
   "id": "f41658b8",
   "metadata": {
    "execution": {
     "iopub.execute_input": "2025-05-04T14:30:20.077584Z",
     "iopub.status.busy": "2025-05-04T14:30:20.076493Z",
     "iopub.status.idle": "2025-05-04T14:30:20.082940Z",
     "shell.execute_reply": "2025-05-04T14:30:20.082048Z"
    },
    "papermill": {
     "duration": 0.015858,
     "end_time": "2025-05-04T14:30:20.084539",
     "exception": false,
     "start_time": "2025-05-04T14:30:20.068681",
     "status": "completed"
    },
    "tags": []
   },
   "outputs": [
    {
     "data": {
      "text/plain": [
       "(150, 5)"
      ]
     },
     "execution_count": 4,
     "metadata": {},
     "output_type": "execute_result"
    }
   ],
   "source": [
    "df.shape"
   ]
  },
  {
   "cell_type": "code",
   "execution_count": 5,
   "id": "b425c076",
   "metadata": {
    "execution": {
     "iopub.execute_input": "2025-05-04T14:30:20.098172Z",
     "iopub.status.busy": "2025-05-04T14:30:20.097859Z",
     "iopub.status.idle": "2025-05-04T14:30:20.121289Z",
     "shell.execute_reply": "2025-05-04T14:30:20.120277Z"
    },
    "papermill": {
     "duration": 0.032024,
     "end_time": "2025-05-04T14:30:20.122920",
     "exception": false,
     "start_time": "2025-05-04T14:30:20.090896",
     "status": "completed"
    },
    "tags": []
   },
   "outputs": [
    {
     "name": "stdout",
     "output_type": "stream",
     "text": [
      "<class 'pandas.core.frame.DataFrame'>\n",
      "Index: 150 entries, 1 to 150\n",
      "Data columns (total 5 columns):\n",
      " #   Column         Non-Null Count  Dtype  \n",
      "---  ------         --------------  -----  \n",
      " 0   SepalLengthCm  150 non-null    float64\n",
      " 1   SepalWidthCm   150 non-null    float64\n",
      " 2   PetalLengthCm  150 non-null    float64\n",
      " 3   PetalWidthCm   150 non-null    float64\n",
      " 4   Species        150 non-null    object \n",
      "dtypes: float64(4), object(1)\n",
      "memory usage: 7.0+ KB\n"
     ]
    }
   ],
   "source": [
    "df.info()"
   ]
  },
  {
   "cell_type": "code",
   "execution_count": 6,
   "id": "c8c137b8",
   "metadata": {
    "execution": {
     "iopub.execute_input": "2025-05-04T14:30:20.138266Z",
     "iopub.status.busy": "2025-05-04T14:30:20.137902Z",
     "iopub.status.idle": "2025-05-04T14:30:20.147028Z",
     "shell.execute_reply": "2025-05-04T14:30:20.145869Z"
    },
    "papermill": {
     "duration": 0.019315,
     "end_time": "2025-05-04T14:30:20.149034",
     "exception": false,
     "start_time": "2025-05-04T14:30:20.129719",
     "status": "completed"
    },
    "tags": []
   },
   "outputs": [
    {
     "data": {
      "text/plain": [
       "Species\n",
       "Iris-setosa        50\n",
       "Iris-versicolor    50\n",
       "Iris-virginica     50\n",
       "Name: count, dtype: int64"
      ]
     },
     "execution_count": 6,
     "metadata": {},
     "output_type": "execute_result"
    }
   ],
   "source": [
    "df['Species'].value_counts()"
   ]
  },
  {
   "cell_type": "code",
   "execution_count": 7,
   "id": "505b3aaf",
   "metadata": {
    "execution": {
     "iopub.execute_input": "2025-05-04T14:30:20.168688Z",
     "iopub.status.busy": "2025-05-04T14:30:20.167678Z",
     "iopub.status.idle": "2025-05-04T14:30:20.179883Z",
     "shell.execute_reply": "2025-05-04T14:30:20.178572Z"
    },
    "papermill": {
     "duration": 0.02361,
     "end_time": "2025-05-04T14:30:20.181381",
     "exception": false,
     "start_time": "2025-05-04T14:30:20.157771",
     "status": "completed"
    },
    "tags": []
   },
   "outputs": [
    {
     "data": {
      "text/plain": [
       "SepalLengthCm    0\n",
       "SepalWidthCm     0\n",
       "PetalLengthCm    0\n",
       "PetalWidthCm     0\n",
       "Species          0\n",
       "dtype: int64"
      ]
     },
     "execution_count": 7,
     "metadata": {},
     "output_type": "execute_result"
    }
   ],
   "source": [
    "df.isnull().sum()"
   ]
  },
  {
   "cell_type": "markdown",
   "id": "f4521c44",
   "metadata": {
    "papermill": {
     "duration": 0.010669,
     "end_time": "2025-05-04T14:30:20.201676",
     "exception": false,
     "start_time": "2025-05-04T14:30:20.191007",
     "status": "completed"
    },
    "tags": []
   },
   "source": [
    "# ploting the displot to check the distribution of data:"
   ]
  },
  {
   "cell_type": "code",
   "execution_count": 8,
   "id": "9e5dea73",
   "metadata": {
    "execution": {
     "iopub.execute_input": "2025-05-04T14:30:20.219797Z",
     "iopub.status.busy": "2025-05-04T14:30:20.219378Z",
     "iopub.status.idle": "2025-05-04T14:30:22.171788Z",
     "shell.execute_reply": "2025-05-04T14:30:22.170799Z"
    },
    "papermill": {
     "duration": 1.961681,
     "end_time": "2025-05-04T14:30:22.173540",
     "exception": false,
     "start_time": "2025-05-04T14:30:20.211859",
     "status": "completed"
    },
    "tags": []
   },
   "outputs": [],
   "source": [
    "import seaborn as sns\n",
    "import matplotlib.pyplot as plt"
   ]
  },
  {
   "cell_type": "code",
   "execution_count": 9,
   "id": "5f9913e1",
   "metadata": {
    "execution": {
     "iopub.execute_input": "2025-05-04T14:30:22.187346Z",
     "iopub.status.busy": "2025-05-04T14:30:22.186564Z",
     "iopub.status.idle": "2025-05-04T14:30:22.593804Z",
     "shell.execute_reply": "2025-05-04T14:30:22.592745Z"
    },
    "papermill": {
     "duration": 0.415911,
     "end_time": "2025-05-04T14:30:22.595497",
     "exception": false,
     "start_time": "2025-05-04T14:30:22.179586",
     "status": "completed"
    },
    "tags": []
   },
   "outputs": [
    {
     "name": "stderr",
     "output_type": "stream",
     "text": [
      "/usr/local/lib/python3.11/dist-packages/seaborn/_oldcore.py:1119: FutureWarning: use_inf_as_na option is deprecated and will be removed in a future version. Convert inf values to NaN before operating instead.\n",
      "  with pd.option_context('mode.use_inf_as_na', True):\n"
     ]
    },
    {
     "data": {
      "text/plain": [
       "<seaborn.axisgrid.FacetGrid at 0x7814c07c5ed0>"
      ]
     },
     "execution_count": 9,
     "metadata": {},
     "output_type": "execute_result"
    },
    {
     "data": {
      "image/png": "[encoded data removed]",
      "text/plain": [
       "<Figure size 500x500 with 1 Axes>"
      ]
     },
     "metadata": {},
     "output_type": "display_data"
    }
   ],
   "source": [
    "sns.displot(df['SepalLengthCm'],kde=True)"
   ]
  },
  {
   "cell_type": "code",
   "execution_count": 10,
   "id": "fb197893",
   "metadata": {
    "execution": {
     "iopub.execute_input": "2025-05-04T14:30:22.611130Z",
     "iopub.status.busy": "2025-05-04T14:30:22.610334Z",
     "iopub.status.idle": "2025-05-04T14:30:23.009220Z",
     "shell.execute_reply": "2025-05-04T14:30:23.007282Z"
    },
    "papermill": {
     "duration": 0.409104,
     "end_time": "2025-05-04T14:30:23.011578",
     "exception": false,
     "start_time": "2025-05-04T14:30:22.602474",
     "status": "completed"
    },
    "tags": []
   },
   "outputs": [
    {
     "name": "stderr",
     "output_type": "stream",
     "text": [
      "/usr/local/lib/python3.11/dist-packages/seaborn/_oldcore.py:1119: FutureWarning: use_inf_as_na option is deprecated and will be removed in a future version. Convert inf values to NaN before operating instead.\n",
      "  with pd.option_context('mode.use_inf_as_na', True):\n"
     ]
    },
    {
     "data": {
      "text/plain": [
       "<seaborn.axisgrid.FacetGrid at 0x7814e25e1290>"
      ]
     },
     "execution_count": 10,
     "metadata": {},
     "output_type": "execute_result"
    },
    {
     "data": {
      "image/png": "[encoded data removed]",
      "text/plain": [
       "<Figure size 500x500 with 1 Axes>"
      ]
     },
     "metadata": {},
     "output_type": "display_data"
    }
   ],
   "source": [
    "sns.displot(df['SepalWidthCm'],kde=True)"
   ]
  },
  {
   "cell_type": "code",
   "execution_count": 11,
   "id": "f07632c6",
   "metadata": {
    "execution": {
     "iopub.execute_input": "2025-05-04T14:30:23.030111Z",
     "iopub.status.busy": "2025-05-04T14:30:23.029040Z",
     "iopub.status.idle": "2025-05-04T14:30:23.337160Z",
     "shell.execute_reply": "2025-05-04T14:30:23.335980Z"
    },
    "papermill": {
     "duration": 0.318862,
     "end_time": "2025-05-04T14:30:23.338923",
     "exception": false,
     "start_time": "2025-05-04T14:30:23.020061",
     "status": "completed"
    },
    "tags": []
   },
   "outputs": [
    {
     "name": "stderr",
     "output_type": "stream",
     "text": [
      "/usr/local/lib/python3.11/dist-packages/seaborn/_oldcore.py:1119: FutureWarning: use_inf_as_na option is deprecated and will be removed in a future version. Convert inf values to NaN before operating instead.\n",
      "  with pd.option_context('mode.use_inf_as_na', True):\n"
     ]
    },
    {
     "data": {
      "text/plain": [
       "<seaborn.axisgrid.FacetGrid at 0x7814c0960090>"
      ]
     },
     "execution_count": 11,
     "metadata": {},
     "output_type": "execute_result"
    },
    {
     "data": {
      "image/png": "[encoded data removed]",
      "text/plain": [
       "<Figure size 500x500 with 1 Axes>"
      ]
     },
     "metadata": {},
     "output_type": "display_data"
    }
   ],
   "source": [
    "sns.displot(df['PetalLengthCm'],kde=True)"
   ]
  },
  {
   "cell_type": "markdown",
   "id": "e99fc578",
   "metadata": {
    "papermill": {
     "duration": 0.007525,
     "end_time": "2025-05-04T14:30:23.354387",
     "exception": false,
     "start_time": "2025-05-04T14:30:23.346862",
     "status": "completed"
    },
    "tags": []
   },
   "source": [
    "# Encoding the target column:"
   ]
  },
  {
   "cell_type": "code",
   "execution_count": 12,
   "id": "c54a3c5e",
   "metadata": {
    "execution": {
     "iopub.execute_input": "2025-05-04T14:30:23.371320Z",
     "iopub.status.busy": "2025-05-04T14:30:23.370941Z",
     "iopub.status.idle": "2025-05-04T14:30:23.560213Z",
     "shell.execute_reply": "2025-05-04T14:30:23.559058Z"
    },
    "papermill": {
     "duration": 0.200227,
     "end_time": "2025-05-04T14:30:23.562200",
     "exception": false,
     "start_time": "2025-05-04T14:30:23.361973",
     "status": "completed"
    },
    "tags": []
   },
   "outputs": [],
   "source": [
    "from sklearn.preprocessing import LabelEncoder"
   ]
  },
  {
   "cell_type": "code",
   "execution_count": 13,
   "id": "622040e2",
   "metadata": {
    "execution": {
     "iopub.execute_input": "2025-05-04T14:30:23.580642Z",
     "iopub.status.busy": "2025-05-04T14:30:23.579559Z",
     "iopub.status.idle": "2025-05-04T14:30:23.584387Z",
     "shell.execute_reply": "2025-05-04T14:30:23.583494Z"
    },
    "papermill": {
     "duration": 0.015594,
     "end_time": "2025-05-04T14:30:23.586075",
     "exception": false,
     "start_time": "2025-05-04T14:30:23.570481",
     "status": "completed"
    },
    "tags": []
   },
   "outputs": [],
   "source": [
    "le=LabelEncoder()"
   ]
  },
  {
   "cell_type": "code",
   "execution_count": 14,
   "id": "9ad2bc7d",
   "metadata": {
    "execution": {
     "iopub.execute_input": "2025-05-04T14:30:23.603155Z",
     "iopub.status.busy": "2025-05-04T14:30:23.602292Z",
     "iopub.status.idle": "2025-05-04T14:30:23.608508Z",
     "shell.execute_reply": "2025-05-04T14:30:23.607636Z"
    },
    "papermill": {
     "duration": 0.016699,
     "end_time": "2025-05-04T14:30:23.610348",
     "exception": false,
     "start_time": "2025-05-04T14:30:23.593649",
     "status": "completed"
    },
    "tags": []
   },
   "outputs": [],
   "source": [
    "df['Species']=le.fit_transform(df['Species'])"
   ]
  },
  {
   "cell_type": "code",
   "execution_count": 15,
   "id": "1381009a",
   "metadata": {
    "execution": {
     "iopub.execute_input": "2025-05-04T14:30:23.628382Z",
     "iopub.status.busy": "2025-05-04T14:30:23.627476Z",
     "iopub.status.idle": "2025-05-04T14:30:23.640504Z",
     "shell.execute_reply": "2025-05-04T14:30:23.639532Z"
    },
    "papermill": {
     "duration": 0.024017,
     "end_time": "2025-05-04T14:30:23.642405",
     "exception": false,
     "start_time": "2025-05-04T14:30:23.618388",
     "status": "completed"
    },
    "tags": []
   },
   "outputs": [
    {
     "data": {
      "text/html": [
       "<div>\n",
       "<style scoped>\n",
       "    .dataframe tbody tr th:only-of-type {\n",
       "        vertical-align: middle;\n",
       "    }\n",
       "\n",
       "    .dataframe tbody tr th {\n",
       "        vertical-align: top;\n",
       "    }\n",
       "\n",
       "    .dataframe thead th {\n",
       "        text-align: right;\n",
       "    }\n",
       "</style>\n",
       "<table border=\"1\" class=\"dataframe\">\n",
       "  <thead>\n",
       "    <tr style=\"text-align: right;\">\n",
       "      <th></th>\n",
       "      <th>SepalLengthCm</th>\n",
       "      <th>SepalWidthCm</th>\n",
       "      <th>PetalLengthCm</th>\n",
       "      <th>PetalWidthCm</th>\n",
       "      <th>Species</th>\n",
       "    </tr>\n",
       "    <tr>\n",
       "      <th>Id</th>\n",
       "      <th></th>\n",
       "      <th></th>\n",
       "      <th></th>\n",
       "      <th></th>\n",
       "      <th></th>\n",
       "    </tr>\n",
       "  </thead>\n",
       "  <tbody>\n",
       "    <tr>\n",
       "      <th>1</th>\n",
       "      <td>5.1</td>\n",
       "      <td>3.5</td>\n",
       "      <td>1.4</td>\n",
       "      <td>0.2</td>\n",
       "      <td>0</td>\n",
       "    </tr>\n",
       "    <tr>\n",
       "      <th>2</th>\n",
       "      <td>4.9</td>\n",
       "      <td>3.0</td>\n",
       "      <td>1.4</td>\n",
       "      <td>0.2</td>\n",
       "      <td>0</td>\n",
       "    </tr>\n",
       "    <tr>\n",
       "      <th>3</th>\n",
       "      <td>4.7</td>\n",
       "      <td>3.2</td>\n",
       "      <td>1.3</td>\n",
       "      <td>0.2</td>\n",
       "      <td>0</td>\n",
       "    </tr>\n",
       "    <tr>\n",
       "      <th>4</th>\n",
       "      <td>4.6</td>\n",
       "      <td>3.1</td>\n",
       "      <td>1.5</td>\n",
       "      <td>0.2</td>\n",
       "      <td>0</td>\n",
       "    </tr>\n",
       "    <tr>\n",
       "      <th>5</th>\n",
       "      <td>5.0</td>\n",
       "      <td>3.6</td>\n",
       "      <td>1.4</td>\n",
       "      <td>0.2</td>\n",
       "      <td>0</td>\n",
       "    </tr>\n",
       "  </tbody>\n",
       "</table>\n",
       "</div>"
      ],
      "text/plain": [
       "    SepalLengthCm  SepalWidthCm  PetalLengthCm  PetalWidthCm  Species\n",
       "Id                                                                   \n",
       "1             5.1           3.5            1.4           0.2        0\n",
       "2             4.9           3.0            1.4           0.2        0\n",
       "3             4.7           3.2            1.3           0.2        0\n",
       "4             4.6           3.1            1.5           0.2        0\n",
       "5             5.0           3.6            1.4           0.2        0"
      ]
     },
     "execution_count": 15,
     "metadata": {},
     "output_type": "execute_result"
    }
   ],
   "source": [
    "df.head()"
   ]
  },
  {
   "cell_type": "code",
   "execution_count": 16,
   "id": "ff75cda1",
   "metadata": {
    "execution": {
     "iopub.execute_input": "2025-05-04T14:30:23.660321Z",
     "iopub.status.busy": "2025-05-04T14:30:23.659994Z",
     "iopub.status.idle": "2025-05-04T14:30:23.669166Z",
     "shell.execute_reply": "2025-05-04T14:30:23.668196Z"
    },
    "papermill": {
     "duration": 0.020082,
     "end_time": "2025-05-04T14:30:23.670747",
     "exception": false,
     "start_time": "2025-05-04T14:30:23.650665",
     "status": "completed"
    },
    "tags": []
   },
   "outputs": [
    {
     "data": {
      "text/plain": [
       "Species\n",
       "0    50\n",
       "1    50\n",
       "2    50\n",
       "Name: count, dtype: int64"
      ]
     },
     "execution_count": 16,
     "metadata": {},
     "output_type": "execute_result"
    }
   ],
   "source": [
    "df['Species'].value_counts()"
   ]
  },
  {
   "cell_type": "markdown",
   "id": "173634d9",
   "metadata": {
    "papermill": {
     "duration": 0.007508,
     "end_time": "2025-05-04T14:30:23.686358",
     "exception": false,
     "start_time": "2025-05-04T14:30:23.678850",
     "status": "completed"
    },
    "tags": []
   },
   "source": [
    "# Splitting the training and testing data:"
   ]
  },
  {
   "cell_type": "code",
   "execution_count": 17,
   "id": "e84cefec",
   "metadata": {
    "execution": {
     "iopub.execute_input": "2025-05-04T14:30:23.703437Z",
     "iopub.status.busy": "2025-05-04T14:30:23.703061Z",
     "iopub.status.idle": "2025-05-04T14:30:23.709407Z",
     "shell.execute_reply": "2025-05-04T14:30:23.708289Z"
    },
    "papermill": {
     "duration": 0.017178,
     "end_time": "2025-05-04T14:30:23.711276",
     "exception": false,
     "start_time": "2025-05-04T14:30:23.694098",
     "status": "completed"
    },
    "tags": []
   },
   "outputs": [],
   "source": [
    "x=df.drop('Species',axis=1)\n",
    "y=df['Species']"
   ]
  },
  {
   "cell_type": "code",
   "execution_count": 18,
   "id": "522a9d05",
   "metadata": {
    "execution": {
     "iopub.execute_input": "2025-05-04T14:30:23.728865Z",
     "iopub.status.busy": "2025-05-04T14:30:23.728470Z",
     "iopub.status.idle": "2025-05-04T14:30:23.847524Z",
     "shell.execute_reply": "2025-05-04T14:30:23.846425Z"
    },
    "papermill": {
     "duration": 0.130171,
     "end_time": "2025-05-04T14:30:23.849352",
     "exception": false,
     "start_time": "2025-05-04T14:30:23.719181",
     "status": "completed"
    },
    "tags": []
   },
   "outputs": [],
   "source": [
    "from sklearn.model_selection import train_test_split"
   ]
  },
  {
   "cell_type": "code",
   "execution_count": 19,
   "id": "42f02044",
   "metadata": {
    "execution": {
     "iopub.execute_input": "2025-05-04T14:30:23.867499Z",
     "iopub.status.busy": "2025-05-04T14:30:23.866423Z",
     "iopub.status.idle": "2025-05-04T14:30:23.874191Z",
     "shell.execute_reply": "2025-05-04T14:30:23.873156Z"
    },
    "papermill": {
     "duration": 0.018752,
     "end_time": "2025-05-04T14:30:23.876055",
     "exception": false,
     "start_time": "2025-05-04T14:30:23.857303",
     "status": "completed"
    },
    "tags": []
   },
   "outputs": [],
   "source": [
    "x_train,x_test,y_train,y_test=train_test_split(x,y,test_size=0.2,random_state=42)"
   ]
  },
  {
   "cell_type": "code",
   "execution_count": 20,
   "id": "e6ccc7ae",
   "metadata": {
    "execution": {
     "iopub.execute_input": "2025-05-04T14:30:23.893741Z",
     "iopub.status.busy": "2025-05-04T14:30:23.893336Z",
     "iopub.status.idle": "2025-05-04T14:30:23.905574Z",
     "shell.execute_reply": "2025-05-04T14:30:23.904596Z"
    },
    "papermill": {
     "duration": 0.023018,
     "end_time": "2025-05-04T14:30:23.907169",
     "exception": false,
     "start_time": "2025-05-04T14:30:23.884151",
     "status": "completed"
    },
    "tags": []
   },
   "outputs": [
    {
     "data": {
      "text/html": [
       "<div>\n",
       "<style scoped>\n",
       "    .dataframe tbody tr th:only-of-type {\n",
       "        vertical-align: middle;\n",
       "    }\n",
       "\n",
       "    .dataframe tbody tr th {\n",
       "        vertical-align: top;\n",
       "    }\n",
       "\n",
       "    .dataframe thead th {\n",
       "        text-align: right;\n",
       "    }\n",
       "</style>\n",
       "<table border=\"1\" class=\"dataframe\">\n",
       "  <thead>\n",
       "    <tr style=\"text-align: right;\">\n",
       "      <th></th>\n",
       "      <th>SepalLengthCm</th>\n",
       "      <th>SepalWidthCm</th>\n",
       "      <th>PetalLengthCm</th>\n",
       "      <th>PetalWidthCm</th>\n",
       "    </tr>\n",
       "    <tr>\n",
       "      <th>Id</th>\n",
       "      <th></th>\n",
       "      <th></th>\n",
       "      <th></th>\n",
       "      <th></th>\n",
       "    </tr>\n",
       "  </thead>\n",
       "  <tbody>\n",
       "    <tr>\n",
       "      <th>23</th>\n",
       "      <td>4.6</td>\n",
       "      <td>3.6</td>\n",
       "      <td>1.0</td>\n",
       "      <td>0.2</td>\n",
       "    </tr>\n",
       "    <tr>\n",
       "      <th>16</th>\n",
       "      <td>5.7</td>\n",
       "      <td>4.4</td>\n",
       "      <td>1.5</td>\n",
       "      <td>0.4</td>\n",
       "    </tr>\n",
       "    <tr>\n",
       "      <th>66</th>\n",
       "      <td>6.7</td>\n",
       "      <td>3.1</td>\n",
       "      <td>4.4</td>\n",
       "      <td>1.4</td>\n",
       "    </tr>\n",
       "    <tr>\n",
       "      <th>12</th>\n",
       "      <td>4.8</td>\n",
       "      <td>3.4</td>\n",
       "      <td>1.6</td>\n",
       "      <td>0.2</td>\n",
       "    </tr>\n",
       "    <tr>\n",
       "      <th>43</th>\n",
       "      <td>4.4</td>\n",
       "      <td>3.2</td>\n",
       "      <td>1.3</td>\n",
       "      <td>0.2</td>\n",
       "    </tr>\n",
       "  </tbody>\n",
       "</table>\n",
       "</div>"
      ],
      "text/plain": [
       "    SepalLengthCm  SepalWidthCm  PetalLengthCm  PetalWidthCm\n",
       "Id                                                          \n",
       "23            4.6           3.6            1.0           0.2\n",
       "16            5.7           4.4            1.5           0.4\n",
       "66            6.7           3.1            4.4           1.4\n",
       "12            4.8           3.4            1.6           0.2\n",
       "43            4.4           3.2            1.3           0.2"
      ]
     },
     "execution_count": 20,
     "metadata": {},
     "output_type": "execute_result"
    }
   ],
   "source": [
    "x_train.head()"
   ]
  },
  {
   "cell_type": "markdown",
   "id": "d7c3ec20",
   "metadata": {
    "papermill": {
     "duration": 0.008117,
     "end_time": "2025-05-04T14:30:23.924002",
     "exception": false,
     "start_time": "2025-05-04T14:30:23.915885",
     "status": "completed"
    },
    "tags": []
   },
   "source": [
    "# training the model using KNN"
   ]
  },
  {
   "cell_type": "code",
   "execution_count": 21,
   "id": "25dff6da",
   "metadata": {
    "execution": {
     "iopub.execute_input": "2025-05-04T14:30:23.942305Z",
     "iopub.status.busy": "2025-05-04T14:30:23.941967Z",
     "iopub.status.idle": "2025-05-04T14:30:24.190344Z",
     "shell.execute_reply": "2025-05-04T14:30:24.189348Z"
    },
    "papermill": {
     "duration": 0.260183,
     "end_time": "2025-05-04T14:30:24.192476",
     "exception": false,
     "start_time": "2025-05-04T14:30:23.932293",
     "status": "completed"
    },
    "tags": []
   },
   "outputs": [],
   "source": [
    "from sklearn.neighbors import KNeighborsClassifier\n"
   ]
  },
  {
   "cell_type": "code",
   "execution_count": 22,
   "id": "d123eb80",
   "metadata": {
    "execution": {
     "iopub.execute_input": "2025-05-04T14:30:24.212115Z",
     "iopub.status.busy": "2025-05-04T14:30:24.211254Z",
     "iopub.status.idle": "2025-05-04T14:30:24.215973Z",
     "shell.execute_reply": "2025-05-04T14:30:24.214899Z"
    },
    "papermill": {
     "duration": 0.015998,
     "end_time": "2025-05-04T14:30:24.217565",
     "exception": false,
     "start_time": "2025-05-04T14:30:24.201567",
     "status": "completed"
    },
    "tags": []
   },
   "outputs": [],
   "source": [
    "knn=KNeighborsClassifier(n_neighbors=3)"
   ]
  },
  {
   "cell_type": "code",
   "execution_count": 23,
   "id": "3913447f",
   "metadata": {
    "execution": {
     "iopub.execute_input": "2025-05-04T14:30:24.303192Z",
     "iopub.status.busy": "2025-05-04T14:30:24.302788Z",
     "iopub.status.idle": "2025-05-04T14:30:24.322427Z",
     "shell.execute_reply": "2025-05-04T14:30:24.321160Z"
    },
    "papermill": {
     "duration": 0.098428,
     "end_time": "2025-05-04T14:30:24.324244",
     "exception": false,
     "start_time": "2025-05-04T14:30:24.225816",
     "status": "completed"
    },
    "tags": []
   },
   "outputs": [
    {
     "data": {
      "text/html": [
       "<style>#sk-container-id-1 {color: black;background-color: white;}#sk-container-id-1 pre{padding: 0;}#sk-container-id-1 div.sk-toggleable {background-color: white;}#sk-container-id-1 label.sk-toggleable__label {cursor: pointer;display: block;width: 100%;margin-bottom: 0;padding: 0.3em;box-sizing: border-box;text-align: center;}#sk-container-id-1 label.sk-toggleable__label-arrow:before {content: \"▸\";float: left;margin-right: 0.25em;color: #696969;}#sk-container-id-1 label.sk-toggleable__label-arrow:hover:before {color: black;}#sk-container-id-1 div.sk-estimator:hover label.sk-toggleable__label-arrow:before {color: black;}#sk-container-id-1 div.sk-toggleable__content {max-height: 0;max-width: 0;overflow: hidden;text-align: left;background-color: #f0f8ff;}#sk-container-id-1 div.sk-toggleable__content pre {margin: 0.2em;color: black;border-radius: 0.25em;background-color: #f0f8ff;}#sk-container-id-1 input.sk-toggleable__control:checked~div.sk-toggleable__content {max-height: 200px;max-width: 100%;overflow: auto;}#sk-container-id-1 input.sk-toggleable__control:checked~label.sk-toggleable__label-arrow:before {content: \"▾\";}#sk-container-id-1 div.sk-estimator input.sk-toggleable__control:checked~label.sk-toggleable__label {background-color: #d4ebff;}#sk-container-id-1 div.sk-label input.sk-toggleable__control:checked~label.sk-toggleable__label {background-color: #d4ebff;}#sk-container-id-1 input.sk-hidden--visually {border: 0;clip: rect(1px 1px 1px 1px);clip: rect(1px, 1px, 1px, 1px);height: 1px;margin: -1px;overflow: hidden;padding: 0;position: absolute;width: 1px;}#sk-container-id-1 div.sk-estimator {font-family: monospace;background-color: #f0f8ff;border: 1px dotted black;border-radius: 0.25em;box-sizing: border-box;margin-bottom: 0.5em;}#sk-container-id-1 div.sk-estimator:hover {background-color: #d4ebff;}#sk-container-id-1 div.sk-parallel-item::after {content: \"\";width: 100%;border-bottom: 1px solid gray;flex-grow: 1;}#sk-container-id-1 div.sk-label:hover label.sk-toggleable__label {background-color: #d4ebff;}#sk-container-id-1 div.sk-serial::before {content: \"\";position: absolute;border-left: 1px solid gray;box-sizing: border-box;top: 0;bottom: 0;left: 50%;z-index: 0;}#sk-container-id-1 div.sk-serial {display: flex;flex-direction: column;align-items: center;background-color: white;padding-right: 0.2em;padding-left: 0.2em;position: relative;}#sk-container-id-1 div.sk-item {position: relative;z-index: 1;}#sk-container-id-1 div.sk-parallel {display: flex;align-items: stretch;justify-content: center;background-color: white;position: relative;}#sk-container-id-1 div.sk-item::before, #sk-container-id-1 div.sk-parallel-item::before {content: \"\";position: absolute;border-left: 1px solid gray;box-sizing: border-box;top: 0;bottom: 0;left: 50%;z-index: -1;}#sk-container-id-1 div.sk-parallel-item {display: flex;flex-direction: column;z-index: 1;position: relative;background-color: white;}#sk-container-id-1 div.sk-parallel-item:first-child::after {align-self: flex-end;width: 50%;}#sk-container-id-1 div.sk-parallel-item:last-child::after {align-self: flex-start;width: 50%;}#sk-container-id-1 div.sk-parallel-item:only-child::after {width: 0;}#sk-container-id-1 div.sk-dashed-wrapped {border: 1px dashed gray;margin: 0 0.4em 0.5em 0.4em;box-sizing: border-box;padding-bottom: 0.4em;background-color: white;}#sk-container-id-1 div.sk-label label {font-family: monospace;font-weight: bold;display: inline-block;line-height: 1.2em;}#sk-container-id-1 div.sk-label-container {text-align: center;}#sk-container-id-1 div.sk-container {/* jupyter's `normalize.less` sets `[hidden] { display: none; }` but bootstrap.min.css set `[hidden] { display: none !important; }` so we also need the `!important` here to be able to override the default hidden behavior on the sphinx rendered scikit-learn.org. See: https://github.com/scikit-learn/scikit-learn/issues/21755 */display: inline-block !important;position: relative;}#sk-container-id-1 div.sk-text-repr-fallback {display: none;}</style><div id=\"sk-container-id-1\" class=\"sk-top-container\"><div class=\"sk-text-repr-fallback\"><pre>KNeighborsClassifier(n_neighbors=3)</pre><b>In a Jupyter environment, please rerun this cell to show the HTML representation or trust the notebook. <br />On GitHub, the HTML representation is unable to render, please try loading this page with nbviewer.org.</b></div><div class=\"sk-container\" hidden><div class=\"sk-item\"><div class=\"sk-estimator sk-toggleable\"><input class=\"sk-toggleable__control sk-hidden--visually\" id=\"sk-estimator-id-1\" type=\"checkbox\" checked><label for=\"sk-estimator-id-1\" class=\"sk-toggleable__label sk-toggleable__label-arrow\">KNeighborsClassifier</label><div class=\"sk-toggleable__content\"><pre>KNeighborsClassifier(n_neighbors=3)</pre></div></div></div></div></div>"
      ],
      "text/plain": [
       "KNeighborsClassifier(n_neighbors=3)"
      ]
     },
     "execution_count": 23,
     "metadata": {},
     "output_type": "execute_result"
    }
   ],
   "source": [
    "knn.fit(x_train,y_train)"
   ]
  },
  {
   "cell_type": "code",
   "execution_count": 24,
   "id": "8950d94a",
   "metadata": {
    "execution": {
     "iopub.execute_input": "2025-05-04T14:30:24.344015Z",
     "iopub.status.busy": "2025-05-04T14:30:24.343585Z",
     "iopub.status.idle": "2025-05-04T14:30:24.355025Z",
     "shell.execute_reply": "2025-05-04T14:30:24.353978Z"
    },
    "papermill": {
     "duration": 0.023147,
     "end_time": "2025-05-04T14:30:24.356687",
     "exception": false,
     "start_time": "2025-05-04T14:30:24.333540",
     "status": "completed"
    },
    "tags": []
   },
   "outputs": [],
   "source": [
    "y_pred=knn.predict(x_test)"
   ]
  },
  {
   "cell_type": "markdown",
   "id": "4a5515b2",
   "metadata": {
    "papermill": {
     "duration": 0.008225,
     "end_time": "2025-05-04T14:30:24.373479",
     "exception": false,
     "start_time": "2025-05-04T14:30:24.365254",
     "status": "completed"
    },
    "tags": []
   },
   "source": [
    "# Evaluating the perfomence:"
   ]
  },
  {
   "cell_type": "code",
   "execution_count": 25,
   "id": "a702b239",
   "metadata": {
    "execution": {
     "iopub.execute_input": "2025-05-04T14:30:24.392476Z",
     "iopub.status.busy": "2025-05-04T14:30:24.391560Z",
     "iopub.status.idle": "2025-05-04T14:30:24.396981Z",
     "shell.execute_reply": "2025-05-04T14:30:24.395830Z"
    },
    "papermill": {
     "duration": 0.017043,
     "end_time": "2025-05-04T14:30:24.398785",
     "exception": false,
     "start_time": "2025-05-04T14:30:24.381742",
     "status": "completed"
    },
    "tags": []
   },
   "outputs": [],
   "source": [
    "from sklearn.metrics import accuracy_score,confusion_matrix"
   ]
  },
  {
   "cell_type": "code",
   "execution_count": 26,
   "id": "c2038c7d",
   "metadata": {
    "execution": {
     "iopub.execute_input": "2025-05-04T14:30:24.417362Z",
     "iopub.status.busy": "2025-05-04T14:30:24.417030Z",
     "iopub.status.idle": "2025-05-04T14:30:24.425914Z",
     "shell.execute_reply": "2025-05-04T14:30:24.424522Z"
    },
    "papermill": {
     "duration": 0.020224,
     "end_time": "2025-05-04T14:30:24.427725",
     "exception": false,
     "start_time": "2025-05-04T14:30:24.407501",
     "status": "completed"
    },
    "tags": []
   },
   "outputs": [
    {
     "data": {
      "text/plain": [
       "1.0"
      ]
     },
     "execution_count": 26,
     "metadata": {},
     "output_type": "execute_result"
    }
   ],
   "source": [
    "accuracy_score(y_test,y_pred)"
   ]
  },
  {
   "cell_type": "code",
   "execution_count": 27,
   "id": "c79a08eb",
   "metadata": {
    "execution": {
     "iopub.execute_input": "2025-05-04T14:30:24.446211Z",
     "iopub.status.busy": "2025-05-04T14:30:24.445890Z",
     "iopub.status.idle": "2025-05-04T14:30:24.456105Z",
     "shell.execute_reply": "2025-05-04T14:30:24.455136Z"
    },
    "papermill": {
     "duration": 0.021355,
     "end_time": "2025-05-04T14:30:24.457646",
     "exception": false,
     "start_time": "2025-05-04T14:30:24.436291",
     "status": "completed"
    },
    "tags": []
   },
   "outputs": [
    {
     "data": {
      "text/plain": [
       "array([[10,  0,  0],\n",
       "       [ 0,  9,  0],\n",
       "       [ 0,  0, 11]])"
      ]
     },
     "execution_count": 27,
     "metadata": {},
     "output_type": "execute_result"
    }
   ],
   "source": [
    "confusion_matrix(y_test,y_pred)"
   ]
  },
  {
   "cell_type": "code",
   "execution_count": null,
   "id": "e2471c81",
   "metadata": {
    "papermill": {
     "duration": 0.008521,
     "end_time": "2025-05-04T14:30:24.475305",
     "exception": false,
     "start_time": "2025-05-04T14:30:24.466784",
     "status": "completed"
    },
    "tags": []
   },
   "outputs": [],
   "source": []
  }
 ],
 "metadata": {
  "kaggle": {
   "accelerator": "none",
   "dataSources": [
    {
     "datasetId": 19,
     "sourceId": 420,
     "sourceType": "datasetVersion"
    }
   ],
   "dockerImageVersionId": 31012,
   "isGpuEnabled": false,
   "isInternetEnabled": true,
   "language": "python",
   "sourceType": "notebook"
  },
  "kernelspec": {
   "display_name": "Python 3",
   "language": "python",
   "name": "python3"
  },
  "language_info": {
   "codemirror_mode": {
    "name": "ipython",
    "version": 3
   },
   "file_extension": ".py",
   "mimetype": "text/x-python",
   "name": "python",
   "nbconvert_exporter": "python",
   "pygments_lexer": "ipython3",
   "version": "3.11.11"
  },
  "papermill": {
   "default_parameters": {},
   "duration": 12.443306,
   "end_time": "2025-05-04T14:30:25.307841",
   "environment_variables": {},
   "exception": null,
   "input_path": "__notebook__.ipynb",
   "output_path": "__notebook__.ipynb",
   "parameters": {},
   "start_time": "2025-05-04T14:30:12.864535",
   "version": "2.6.0"
  }
 },
 "nbformat": 4,
 "nbformat_minor": 5
}
